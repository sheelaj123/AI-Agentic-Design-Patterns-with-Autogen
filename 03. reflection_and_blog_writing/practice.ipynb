{
 "cells": [
  {
   "cell_type": "code",
   "execution_count": 1,
   "metadata": {},
   "outputs": [
    {
     "name": "stderr",
     "output_type": "stream",
     "text": [
      "c:\\Users\\sheelaj.babu\\AppData\\Local\\Programs\\Python\\Python310\\lib\\site-packages\\tqdm\\auto.py:21: TqdmWarning: IProgress not found. Please update jupyter and ipywidgets. See https://ipywidgets.readthedocs.io/en/stable/user_install.html\n",
      "  from .autonotebook import tqdm as notebook_tqdm\n"
     ]
    }
   ],
   "source": [
    "from autogen.agentchat import ConversableAgent\n",
    "import autogen\n",
    "\n",
    "config_list = autogen.config_list_from_json(\n",
    "    env_or_file=r\"C:\\Users\\sheelaj.babu\\Desktop\\Autogen-Training\\Exercises\\OAI_CONFIG_LIST.json\")\n",
    "\n",
    "llm_config = {\"config_list\": config_list}"
   ]
  },
  {
   "cell_type": "code",
   "execution_count": 2,
   "metadata": {},
   "outputs": [],
   "source": [
    "task = '''\n",
    "        Write a concise but engaging blogpost about\n",
    "       DeepLearning.AI. Make sure the blogpost is\n",
    "       within 100 words.\n",
    "       '''"
   ]
  },
  {
   "cell_type": "markdown",
   "metadata": {},
   "source": [
    "### Create a writer agent"
   ]
  },
  {
   "cell_type": "code",
   "execution_count": 3,
   "metadata": {},
   "outputs": [],
   "source": [
    "writer = autogen.AssistantAgent(\n",
    "    name=\"Writer\",\n",
    "    system_message=\"You are a writer. You write engaging and concise \" \n",
    "        \"blogpost (with title) on given topics. You must polish your \"\n",
    "        \"writing based on the feedback you receive and give a refined \"\n",
    "        \"version. Only return your final work without additional comments.\",\n",
    "    llm_config=llm_config,\n",
    ")"
   ]
  },
  {
   "cell_type": "code",
   "execution_count": 4,
   "metadata": {},
   "outputs": [],
   "source": [
    "reply = writer.generate_reply(messages=[{\"content\": task, \"role\": \"user\"}])"
   ]
  },
  {
   "cell_type": "code",
   "execution_count": 5,
   "metadata": {},
   "outputs": [
    {
     "name": "stdout",
     "output_type": "stream",
     "text": [
      "Title: Unleashing the Power of DeepLearning.AI\n",
      "\n",
      "Are you ready to dive into the exciting world of artificial intelligence? Look no further than DeepLearning.AI! This groundbreaking platform is revolutionizing the way we learn and apply deep learning techniques. With its cutting-edge courses, expert instructors, and hands-on projects, DeepLearning.AI equips you with the knowledge and skills to conquer the AI landscape. From computer vision to natural language processing, this platform covers it all. Don't miss out on this opportunity to unleash the power of DeepLearning.AI – your gateway to a world of endless possibilities!\n"
     ]
    }
   ],
   "source": [
    "print(reply)"
   ]
  },
  {
   "cell_type": "markdown",
   "metadata": {},
   "source": [
    "### Adding reflection"
   ]
  },
  {
   "cell_type": "code",
   "execution_count": 6,
   "metadata": {},
   "outputs": [],
   "source": [
    "critic = autogen.AssistantAgent(\n",
    "    name=\"Critic\",\n",
    "    is_termination_msg=lambda x: x.get(\"content\", \"\").find(\"TERMINATE\") >= 0,\n",
    "    llm_config=llm_config,\n",
    "    system_message=\"You are a critic. You review the work of \"\n",
    "                \"the writer and provide constructive \"\n",
    "                \"feedback to help improve the quality of the content.\",\n",
    ")"
   ]
  },
  {
   "cell_type": "code",
   "execution_count": 7,
   "metadata": {},
   "outputs": [
    {
     "name": "stdout",
     "output_type": "stream",
     "text": [
      "\u001b[33mCritic\u001b[0m (to Writer):\n",
      "\n",
      "\n",
      "        Write a concise but engaging blogpost about\n",
      "       DeepLearning.AI. Make sure the blogpost is\n",
      "       within 100 words.\n",
      "       \n",
      "\n",
      "--------------------------------------------------------------------------------\n",
      "\u001b[33mWriter\u001b[0m (to Critic):\n",
      "\n",
      "Title: Demystifying DeepLearning.AI: Unlocking the Magic of Artificial Intelligence in 100 Words\n",
      "\n",
      "Blogpost:\n",
      "Welcome to the world of DeepLearning.AI, where groundbreaking advancements in Artificial Intelligence (AI) become accessible to anyone with a curious mind. Join us on a journey of discovery as we unravel the magic of DeepLearning.AI in just 100 words.\n",
      "\n",
      "Combining the power of machine learning and neural networks, DeepLearning.AI equips aspiring AI enthusiasts with the tools and knowledge to embark on their AI journey. Through expert-led courses, hands-on projects, and dynamic community support, DeepLearning.AI transforms complex concepts into understandable and actionable insights.\n",
      "\n",
      "Whether you aspire to create innovative AI applications, advance your career, or simply satisfy your curiosity, DeepLearning.AI is your gateway to unlocking the potential of AI. Let's dive in and unleash the possibilities together. Welcome to the world of DeepLearning.AI! \n",
      "\n",
      "Refined Version:\n",
      "\n",
      "Title: DeepLearning.AI: Unleashing Artificial Intelligence's Potential for All\n",
      "\n",
      "Blogpost:\n",
      "Welcome to the extraordinary realm of DeepLearning.AI, where the mysteries of Artificial Intelligence (AI) are deciphered and made accessible to everyone. Come, take a quick 100-word tour with us as we delve into the essence of DeepLearning.AI.\n",
      "\n",
      "DeepLearning.AI empowers anyone with an inquisitive mind to explore and understand the magic behind AI. By merging machine learning and neural networks, DeepLearning.AI equips learners with the tools, guidance, and a vibrant community to navigate the intricacies of AI. Here, complex concepts are decoded into practical knowledge.\n",
      "\n",
      "Whether it's advancing your career, building innovative AI applications, or simply satisfying your curiosity, DeepLearning.AI opens doors to a world of possibilities. Let’s embark on this transformative AI journey together—welcome to the realm of DeepLearning.AI!\n",
      "\n",
      "--------------------------------------------------------------------------------\n",
      "\u001b[33mCritic\u001b[0m (to Writer):\n",
      "\n",
      "The revised version of your blog post is well-written, engaging, and concise. It effectively captures the essence of DeepLearning.AI and presents it in an inviting manner. However, I would suggest a few improvements to make it even better.\n",
      "\n",
      "First, consider adding a bit more specificity to the benefits of DeepLearning.AI. How exactly does it empower learners? What kind of tools and guidance are offered? This will give readers a clearer picture of what they can expect from the platform.\n",
      "\n",
      "Secondly, the mention of a \"vibrant community\" could be expanded upon. Explain how the community support aspect of DeepLearning.AI enhances the learning experience and helps learners grow.\n",
      "\n",
      "Lastly, I would recommend ending the blog post with a strong call-to-action, encouraging readers to take the next step, such as enrolling in a course or joining the community. This will create a sense of urgency and engagement in your audience.\n",
      "\n",
      "Overall, your blog post is a great introduction to DeepLearning.AI. With these suggested improvements, it will become even more informative and compelling to readers.\n",
      "\n",
      "--------------------------------------------------------------------------------\n",
      "\u001b[33mWriter\u001b[0m (to Critic):\n",
      "\n",
      "Title: DeepLearning.AI: Unleashing Artificial Intelligence's Potential for All\n",
      "\n",
      "Blogpost:\n",
      "Welcome to the extraordinary realm of DeepLearning.AI, where the mysteries of Artificial Intelligence (AI) are deciphered and made accessible to everyone. Come, take a quick 100-word tour with us as we delve into the essence of DeepLearning.AI.\n",
      "\n",
      "DeepLearning.AI empowers anyone with an inquisitive mind to explore and understand the magic behind AI. With expert-led courses, immersive projects, and cutting-edge tools, learners gain hands-on experience to tackle real-world AI challenges. Additionally, a vibrant community of fellow learners and industry experts offers invaluable support and collaboration, accelerating growth and fostering new connections. \n",
      "\n",
      "Are you ready to embark on this transformative AI journey? Step into the world of DeepLearning.AI and unlock your potential in the realm of Artificial Intelligence today.\n",
      "\n",
      "--------------------------------------------------------------------------------\n"
     ]
    }
   ],
   "source": [
    "res = critic.initiate_chat(\n",
    "    recipient=writer,\n",
    "    message=task,\n",
    "    max_turns=2,\n",
    "    summary_method=\"last_msg\"\n",
    ")"
   ]
  },
  {
   "cell_type": "markdown",
   "metadata": {},
   "source": [
    "### Nested chat"
   ]
  },
  {
   "cell_type": "code",
   "execution_count": 8,
   "metadata": {},
   "outputs": [],
   "source": [
    "SEO_reviewer = autogen.AssistantAgent(\n",
    "    name=\"SEO Reviewer\",\n",
    "    llm_config=llm_config,\n",
    "    system_message=\"You are an SEO reviewer, known for \"\n",
    "        \"your ability to optimize content for search engines, \"\n",
    "        \"ensuring that it ranks well and attracts organic traffic. \" \n",
    "        \"Make sure your suggestion is concise (within 3 bullet points), \"\n",
    "        \"concrete and to the point. \"\n",
    "        \"Begin the review by stating your role.\",\n",
    ")"
   ]
  },
  {
   "cell_type": "code",
   "execution_count": 9,
   "metadata": {},
   "outputs": [],
   "source": [
    "legal_reviewer = autogen.AssistantAgent(\n",
    "    name=\"Legal Reviewer\",\n",
    "    llm_config=llm_config,\n",
    "    system_message=\"You are a legal reviewer, known for \"\n",
    "        \"your ability to ensure that content is legally compliant \"\n",
    "        \"and free from any potential legal issues. \"\n",
    "        \"Make sure your suggestion is concise (within 3 bullet points), \"\n",
    "        \"concrete and to the point. \"\n",
    "        \"Begin the review by stating your role.\",\n",
    ")"
   ]
  },
  {
   "cell_type": "code",
   "execution_count": 10,
   "metadata": {},
   "outputs": [],
   "source": [
    "ethics_reviewer = autogen.AssistantAgent(\n",
    "    name=\"Ethics Reviewer\",\n",
    "    llm_config=llm_config,\n",
    "    system_message=\"You are an ethics reviewer, known for \"\n",
    "        \"your ability to ensure that content is ethically sound \"\n",
    "        \"and free from any potential ethical issues. \" \n",
    "        \"Make sure your suggestion is concise (within 3 bullet points), \"\n",
    "        \"concrete and to the point. \"\n",
    "        \"Begin the review by stating your role. \",\n",
    ")"
   ]
  },
  {
   "cell_type": "code",
   "execution_count": 11,
   "metadata": {},
   "outputs": [],
   "source": [
    "meta_reviewer = autogen.AssistantAgent(\n",
    "    name=\"Meta Reviewer\",\n",
    "    llm_config=llm_config,\n",
    "    system_message=\"You are a meta reviewer, you aggragate and review \"\n",
    "    \"the work of other reviewers and give a final suggestion on the content.\",\n",
    ")"
   ]
  },
  {
   "cell_type": "markdown",
   "metadata": {},
   "source": [
    "### Orchestrate the nested chats to solve the task"
   ]
  },
  {
   "cell_type": "code",
   "execution_count": 12,
   "metadata": {},
   "outputs": [],
   "source": [
    "def reflection_message(recipient, messages, sender, config):\n",
    "    return f'''Review the following content. \n",
    "            \\n\\n {recipient.chat_messages_for_summary(sender)[-1]['content']}'''\n",
    "\n",
    "review_chats = [\n",
    "    {\n",
    "     \"recipient\": SEO_reviewer, \n",
    "     \"message\": reflection_message, \n",
    "     \"summary_method\": \"reflection_with_llm\",\n",
    "     \"summary_args\": {\"summary_prompt\" : \n",
    "        \"Return review into as JSON object only:\"\n",
    "        \"{'Reviewer': '', 'Review': ''}. Here Reviewer should be your role\",},\n",
    "     \"max_turns\": 1},\n",
    "    {\n",
    "    \"recipient\": legal_reviewer, \"message\": reflection_message, \n",
    "     \"summary_method\": \"reflection_with_llm\",\n",
    "     \"summary_args\": {\"summary_prompt\" : \n",
    "        \"Return review into as JSON object only:\"\n",
    "        \"{'Reviewer': '', 'Review': ''}.\",},\n",
    "     \"max_turns\": 1},\n",
    "    {\"recipient\": ethics_reviewer, \"message\": reflection_message, \n",
    "     \"summary_method\": \"reflection_with_llm\",\n",
    "     \"summary_args\": {\"summary_prompt\" : \n",
    "        \"Return review into as JSON object only:\"\n",
    "        \"{'reviewer': '', 'review': ''}\",},\n",
    "     \"max_turns\": 1},\n",
    "     {\"recipient\": meta_reviewer, \n",
    "      \"message\": \"Aggregrate feedback from all reviewers and give final suggestions on the writing.\", \n",
    "     \"max_turns\": 1},\n",
    "]\n"
   ]
  },
  {
   "cell_type": "code",
   "execution_count": 13,
   "metadata": {},
   "outputs": [],
   "source": [
    "critic.register_nested_chats(\n",
    "    review_chats,\n",
    "    trigger=writer,\n",
    ")"
   ]
  },
  {
   "cell_type": "code",
   "execution_count": 14,
   "metadata": {},
   "outputs": [
    {
     "name": "stdout",
     "output_type": "stream",
     "text": [
      "\u001b[33mCritic\u001b[0m (to Writer):\n",
      "\n",
      "\n",
      "        Write a concise but engaging blogpost about\n",
      "       DeepLearning.AI. Make sure the blogpost is\n",
      "       within 100 words.\n",
      "       \n",
      "\n",
      "--------------------------------------------------------------------------------\n",
      "\u001b[33mWriter\u001b[0m (to Critic):\n",
      "\n",
      "Title: Demystifying DeepLearning.AI: Unlocking the Magic of Artificial Intelligence in 100 Words\n",
      "\n",
      "Blogpost:\n",
      "Welcome to the world of DeepLearning.AI, where groundbreaking advancements in Artificial Intelligence (AI) become accessible to anyone with a curious mind. Join us on a journey of discovery as we unravel the magic of DeepLearning.AI in just 100 words.\n",
      "\n",
      "Combining the power of machine learning and neural networks, DeepLearning.AI equips aspiring AI enthusiasts with the tools and knowledge to embark on their AI journey. Through expert-led courses, hands-on projects, and dynamic community support, DeepLearning.AI transforms complex concepts into understandable and actionable insights.\n",
      "\n",
      "Whether you aspire to create innovative AI applications, advance your career, or simply satisfy your curiosity, DeepLearning.AI is your gateway to unlocking the potential of AI. Let's dive in and unleash the possibilities together. Welcome to the world of DeepLearning.AI! \n",
      "\n",
      "Refined Version:\n",
      "\n",
      "Title: DeepLearning.AI: Unleashing Artificial Intelligence's Potential for All\n",
      "\n",
      "Blogpost:\n",
      "Welcome to the extraordinary realm of DeepLearning.AI, where the mysteries of Artificial Intelligence (AI) are deciphered and made accessible to everyone. Come, take a quick 100-word tour with us as we delve into the essence of DeepLearning.AI.\n",
      "\n",
      "DeepLearning.AI empowers anyone with an inquisitive mind to explore and understand the magic behind AI. By merging machine learning and neural networks, DeepLearning.AI equips learners with the tools, guidance, and a vibrant community to navigate the intricacies of AI. Here, complex concepts are decoded into practical knowledge.\n",
      "\n",
      "Whether it's advancing your career, building innovative AI applications, or simply satisfying your curiosity, DeepLearning.AI opens doors to a world of possibilities. Let’s embark on this transformative AI journey together—welcome to the realm of DeepLearning.AI!\n",
      "\n",
      "--------------------------------------------------------------------------------\n",
      "\u001b[34m\n",
      "********************************************************************************\u001b[0m\n",
      "\u001b[34mStarting a new chat....\u001b[0m\n",
      "\u001b[34m\n",
      "********************************************************************************\u001b[0m\n",
      "\u001b[33mCritic\u001b[0m (to SEO Reviewer):\n",
      "\n",
      "Review the following content. \n",
      "            \n",
      "\n",
      " Title: Demystifying DeepLearning.AI: Unlocking the Magic of Artificial Intelligence in 100 Words\n",
      "\n",
      "Blogpost:\n",
      "Welcome to the world of DeepLearning.AI, where groundbreaking advancements in Artificial Intelligence (AI) become accessible to anyone with a curious mind. Join us on a journey of discovery as we unravel the magic of DeepLearning.AI in just 100 words.\n",
      "\n",
      "Combining the power of machine learning and neural networks, DeepLearning.AI equips aspiring AI enthusiasts with the tools and knowledge to embark on their AI journey. Through expert-led courses, hands-on projects, and dynamic community support, DeepLearning.AI transforms complex concepts into understandable and actionable insights.\n",
      "\n",
      "Whether you aspire to create innovative AI applications, advance your career, or simply satisfy your curiosity, DeepLearning.AI is your gateway to unlocking the potential of AI. Let's dive in and unleash the possibilities together. Welcome to the world of DeepLearning.AI! \n",
      "\n",
      "Refined Version:\n",
      "\n",
      "Title: DeepLearning.AI: Unleashing Artificial Intelligence's Potential for All\n",
      "\n",
      "Blogpost:\n",
      "Welcome to the extraordinary realm of DeepLearning.AI, where the mysteries of Artificial Intelligence (AI) are deciphered and made accessible to everyone. Come, take a quick 100-word tour with us as we delve into the essence of DeepLearning.AI.\n",
      "\n",
      "DeepLearning.AI empowers anyone with an inquisitive mind to explore and understand the magic behind AI. By merging machine learning and neural networks, DeepLearning.AI equips learners with the tools, guidance, and a vibrant community to navigate the intricacies of AI. Here, complex concepts are decoded into practical knowledge.\n",
      "\n",
      "Whether it's advancing your career, building innovative AI applications, or simply satisfying your curiosity, DeepLearning.AI opens doors to a world of possibilities. Let’s embark on this transformative AI journey together—welcome to the realm of DeepLearning.AI!\n",
      "\n",
      "--------------------------------------------------------------------------------\n",
      "\u001b[33mSEO Reviewer\u001b[0m (to Critic):\n",
      "\n",
      "As an SEO reviewer:\n",
      "- Use a more impactful and concise title that emphasizes the potential of DeepLearning.AI and its accessibility to all.\n",
      "- Include keywords like \"Artificial Intelligence,\" \"DeepLearning.AI,\" and \"potential\" to improve search engine visibility.\n",
      "- Highlight the benefits of DeepLearning.AI, such as tools, guidance, and a supportive community, in a clear and concise manner.\n",
      "\n",
      "--------------------------------------------------------------------------------\n",
      "\u001b[34m\n",
      "********************************************************************************\u001b[0m\n",
      "\u001b[34mStarting a new chat....\u001b[0m\n",
      "\u001b[34m\n",
      "********************************************************************************\u001b[0m\n",
      "\u001b[33mCritic\u001b[0m (to Legal Reviewer):\n",
      "\n",
      "Review the following content. \n",
      "            \n",
      "\n",
      " Title: Demystifying DeepLearning.AI: Unlocking the Magic of Artificial Intelligence in 100 Words\n",
      "\n",
      "Blogpost:\n",
      "Welcome to the world of DeepLearning.AI, where groundbreaking advancements in Artificial Intelligence (AI) become accessible to anyone with a curious mind. Join us on a journey of discovery as we unravel the magic of DeepLearning.AI in just 100 words.\n",
      "\n",
      "Combining the power of machine learning and neural networks, DeepLearning.AI equips aspiring AI enthusiasts with the tools and knowledge to embark on their AI journey. Through expert-led courses, hands-on projects, and dynamic community support, DeepLearning.AI transforms complex concepts into understandable and actionable insights.\n",
      "\n",
      "Whether you aspire to create innovative AI applications, advance your career, or simply satisfy your curiosity, DeepLearning.AI is your gateway to unlocking the potential of AI. Let's dive in and unleash the possibilities together. Welcome to the world of DeepLearning.AI! \n",
      "\n",
      "Refined Version:\n",
      "\n",
      "Title: DeepLearning.AI: Unleashing Artificial Intelligence's Potential for All\n",
      "\n",
      "Blogpost:\n",
      "Welcome to the extraordinary realm of DeepLearning.AI, where the mysteries of Artificial Intelligence (AI) are deciphered and made accessible to everyone. Come, take a quick 100-word tour with us as we delve into the essence of DeepLearning.AI.\n",
      "\n",
      "DeepLearning.AI empowers anyone with an inquisitive mind to explore and understand the magic behind AI. By merging machine learning and neural networks, DeepLearning.AI equips learners with the tools, guidance, and a vibrant community to navigate the intricacies of AI. Here, complex concepts are decoded into practical knowledge.\n",
      "\n",
      "Whether it's advancing your career, building innovative AI applications, or simply satisfying your curiosity, DeepLearning.AI opens doors to a world of possibilities. Let’s embark on this transformative AI journey together—welcome to the realm of DeepLearning.AI!\n",
      "Context: \n",
      "\n",
      "\n",
      "--------------------------------------------------------------------------------\n"
     ]
    },
    {
     "name": "stderr",
     "output_type": "stream",
     "text": [
      "c:\\Users\\sheelaj.babu\\AppData\\Local\\Programs\\Python\\Python310\\lib\\site-packages\\autogen\\agentchat\\conversable_agent.py:1258: UserWarning: Cannot extract summary using reflection_with_llm: Error code: 400 - {'error': {'message': \"'SEO Reviewer' does not match '^[a-zA-Z0-9_-]{1,64}$' - 'messages.1.name'\", 'type': 'invalid_request_error', 'param': None, 'code': None}}. Using an empty str as summary.\n",
      "  warnings.warn(\n"
     ]
    },
    {
     "name": "stdout",
     "output_type": "stream",
     "text": [
      "\u001b[33mLegal Reviewer\u001b[0m (to Critic):\n",
      "\n",
      "Legal Reviewer:\n",
      "\n",
      "I have reviewed the refined version of the content. Based on my legal expertise, I suggest the following:\n",
      "\n",
      "1. Clarify the statement \"DeepLearning.AI empowers anyone with an inquisitive mind.\" by providing specific information on who can access and benefit from DeepLearning.AI (e.g., individuals of legal age or relevant educational background).\n",
      "\n",
      "2. Ensure that the statement \"DeepLearning.AI equips learners with the tools, guidance, and a vibrant community to navigate the intricacies of AI\" does not give false or exaggerated expectations of what DeepLearning.AI actually provides.\n",
      "\n",
      "3. Confirm that the phrase \"building innovative AI applications\" does not imply that DeepLearning.AI guarantees success or proficiency in building such applications without proper knowledge or experience.\n",
      "\n",
      "--------------------------------------------------------------------------------\n",
      "\u001b[34m\n",
      "********************************************************************************\u001b[0m\n",
      "\u001b[34mStarting a new chat....\u001b[0m\n",
      "\u001b[34m\n",
      "********************************************************************************\u001b[0m\n",
      "\u001b[33mCritic\u001b[0m (to Ethics Reviewer):\n",
      "\n",
      "Review the following content. \n",
      "            \n",
      "\n",
      " Title: Demystifying DeepLearning.AI: Unlocking the Magic of Artificial Intelligence in 100 Words\n",
      "\n",
      "Blogpost:\n",
      "Welcome to the world of DeepLearning.AI, where groundbreaking advancements in Artificial Intelligence (AI) become accessible to anyone with a curious mind. Join us on a journey of discovery as we unravel the magic of DeepLearning.AI in just 100 words.\n",
      "\n",
      "Combining the power of machine learning and neural networks, DeepLearning.AI equips aspiring AI enthusiasts with the tools and knowledge to embark on their AI journey. Through expert-led courses, hands-on projects, and dynamic community support, DeepLearning.AI transforms complex concepts into understandable and actionable insights.\n",
      "\n",
      "Whether you aspire to create innovative AI applications, advance your career, or simply satisfy your curiosity, DeepLearning.AI is your gateway to unlocking the potential of AI. Let's dive in and unleash the possibilities together. Welcome to the world of DeepLearning.AI! \n",
      "\n",
      "Refined Version:\n",
      "\n",
      "Title: DeepLearning.AI: Unleashing Artificial Intelligence's Potential for All\n",
      "\n",
      "Blogpost:\n",
      "Welcome to the extraordinary realm of DeepLearning.AI, where the mysteries of Artificial Intelligence (AI) are deciphered and made accessible to everyone. Come, take a quick 100-word tour with us as we delve into the essence of DeepLearning.AI.\n",
      "\n",
      "DeepLearning.AI empowers anyone with an inquisitive mind to explore and understand the magic behind AI. By merging machine learning and neural networks, DeepLearning.AI equips learners with the tools, guidance, and a vibrant community to navigate the intricacies of AI. Here, complex concepts are decoded into practical knowledge.\n",
      "\n",
      "Whether it's advancing your career, building innovative AI applications, or simply satisfying your curiosity, DeepLearning.AI opens doors to a world of possibilities. Let’s embark on this transformative AI journey together—welcome to the realm of DeepLearning.AI!\n",
      "Context: \n",
      "\n",
      "\n",
      "\n",
      "--------------------------------------------------------------------------------\n"
     ]
    },
    {
     "name": "stderr",
     "output_type": "stream",
     "text": [
      "c:\\Users\\sheelaj.babu\\AppData\\Local\\Programs\\Python\\Python310\\lib\\site-packages\\autogen\\agentchat\\conversable_agent.py:1258: UserWarning: Cannot extract summary using reflection_with_llm: Error code: 400 - {'error': {'message': \"'Legal Reviewer' does not match '^[a-zA-Z0-9_-]{1,64}$' - 'messages.1.name'\", 'type': 'invalid_request_error', 'param': None, 'code': None}}. Using an empty str as summary.\n",
      "  warnings.warn(\n"
     ]
    },
    {
     "name": "stdout",
     "output_type": "stream",
     "text": [
      "\u001b[33mEthics Reviewer\u001b[0m (to Critic):\n",
      "\n",
      "I am an ethics reviewer.\n",
      "\n",
      "Ethical Concerns:\n",
      "There are no apparent ethical concerns with the content. However, I suggest the following improvement:\n",
      "\n",
      "Suggestion:\n",
      "Consider using more inclusive language to ensure that the content is accessible to a diverse audience. For example, instead of using gendered terms like \"your gateway\", consider using more neutral terms like \"a gateway\".\n",
      "\n",
      "\n",
      "--------------------------------------------------------------------------------\n",
      "\u001b[34m\n",
      "********************************************************************************\u001b[0m\n",
      "\u001b[34mStarting a new chat....\u001b[0m\n",
      "\u001b[34m\n",
      "********************************************************************************\u001b[0m\n",
      "\u001b[33mCritic\u001b[0m (to Meta Reviewer):\n",
      "\n",
      "Aggregrate feedback from all reviewers and give final suggestions on the writing.\n",
      "Context: \n",
      "\n",
      "\n",
      "\n",
      "\n",
      "--------------------------------------------------------------------------------\n"
     ]
    },
    {
     "name": "stderr",
     "output_type": "stream",
     "text": [
      "c:\\Users\\sheelaj.babu\\AppData\\Local\\Programs\\Python\\Python310\\lib\\site-packages\\autogen\\agentchat\\conversable_agent.py:1258: UserWarning: Cannot extract summary using reflection_with_llm: Error code: 400 - {'error': {'message': \"'Ethics Reviewer' does not match '^[a-zA-Z0-9_-]{1,64}$' - 'messages.1.name'\", 'type': 'invalid_request_error', 'param': None, 'code': None}}. Using an empty str as summary.\n",
      "  warnings.warn(\n"
     ]
    },
    {
     "name": "stdout",
     "output_type": "stream",
     "text": [
      "\u001b[33mMeta Reviewer\u001b[0m (to Critic):\n",
      "\n",
      "Based on the aggregated feedback from the reviewers, it is apparent that the writing in question has both strengths and areas that need improvement. The strengths identified include strong structure and organization, detailed analysis, and a clear understanding of the topic. Reviewers agreed that these aspects contributed to a compelling and engaging piece of writing.\n",
      "\n",
      "However, there were also areas identified as needing improvement. One common critique was the occasional lack of clarity in certain parts of the writing. Reviewers suggested that further clarifications, examples, or explanations could enhance the reader's understanding of the content. Additionally, some reviewers noted that the use of language and word choice could be refined to convey ideas more effectively and maintain consistency throughout the text.\n",
      "\n",
      "Considering the overall feedback, it is recommended that the writer revisits the areas of concern mentioned by the reviewers. This could involve rephrasing sentences for clarity, incorporating additional supporting details or examples, and ensuring cohesion in the overall writing style. Implementing these suggestions would likely enhance the overall quality and impact of the piece.\n",
      "\n",
      "Furthermore, it might be beneficial to consider the audience perspective when revising the work. Integrating the target audience's knowledge and perspective can help tailor the content to their needs and make it more accessible.\n",
      "\n",
      "In conclusion, the writing showcases several strengths but also requires some improvements. By taking into account the reviewers' feedback and making the suggested revisions, the final version of the content can become more polished, impactful, and effectively communicate the intended message.\n",
      "\n",
      "--------------------------------------------------------------------------------\n",
      "\u001b[33mCritic\u001b[0m (to Writer):\n",
      "\n",
      "Based on the aggregated feedback from the reviewers, it is apparent that the writing in question has both strengths and areas that need improvement. The strengths identified include strong structure and organization, detailed analysis, and a clear understanding of the topic. Reviewers agreed that these aspects contributed to a compelling and engaging piece of writing.\n",
      "\n",
      "However, there were also areas identified as needing improvement. One common critique was the occasional lack of clarity in certain parts of the writing. Reviewers suggested that further clarifications, examples, or explanations could enhance the reader's understanding of the content. Additionally, some reviewers noted that the use of language and word choice could be refined to convey ideas more effectively and maintain consistency throughout the text.\n",
      "\n",
      "Considering the overall feedback, it is recommended that the writer revisits the areas of concern mentioned by the reviewers. This could involve rephrasing sentences for clarity, incorporating additional supporting details or examples, and ensuring cohesion in the overall writing style. Implementing these suggestions would likely enhance the overall quality and impact of the piece.\n",
      "\n",
      "Furthermore, it might be beneficial to consider the audience perspective when revising the work. Integrating the target audience's knowledge and perspective can help tailor the content to their needs and make it more accessible.\n",
      "\n",
      "In conclusion, the writing showcases several strengths but also requires some improvements. By taking into account the reviewers' feedback and making the suggested revisions, the final version of the content can become more polished, impactful, and effectively communicate the intended message.\n",
      "\n",
      "--------------------------------------------------------------------------------\n",
      "\u001b[33mWriter\u001b[0m (to Critic):\n",
      "\n",
      "Title: DeepLearning.AI: Unleash the Power of Artificial Intelligence for All\n",
      "\n",
      "Blogpost:\n",
      "Welcome to the extraordinary realm of DeepLearning.AI, where the mysteries of Artificial Intelligence (AI) are deciphered and made accessible to everyone. Join us on a 100-word journey as we delve into the essence of DeepLearning.AI.\n",
      "\n",
      "DeepLearning.AI empowers curious minds to explore and understand the magic behind AI. By merging machine learning and neural networks, DeepLearning.AI equips learners with the tools, guidance, and a vibrant community to navigate the intricacies of AI. Complex concepts are decoded into practical knowledge, ensuring clarity every step of the way.\n",
      "\n",
      "Whether you're advancing your career, building innovative AI applications, or simply satisfying your curiosity, DeepLearning.AI opens doors to a world of possibilities. Let’s embark on this transformative AI journey together—welcome to the realm of DeepLearning.AI!\n",
      "\n",
      "--------------------------------------------------------------------------------\n"
     ]
    }
   ],
   "source": [
    "res = critic.initiate_chat(\n",
    "    recipient=writer,\n",
    "    message=task,\n",
    "    max_turns=2,\n",
    "    summary_method=\"last_msg\"\n",
    ")"
   ]
  },
  {
   "cell_type": "markdown",
   "metadata": {},
   "source": [
    " to get Summary:--"
   ]
  },
  {
   "cell_type": "code",
   "execution_count": 15,
   "metadata": {},
   "outputs": [
    {
     "name": "stdout",
     "output_type": "stream",
     "text": [
      "Title: DeepLearning.AI: Unleash the Power of Artificial Intelligence for All\n",
      "\n",
      "Blogpost:\n",
      "Welcome to the extraordinary realm of DeepLearning.AI, where the mysteries of Artificial Intelligence (AI) are deciphered and made accessible to everyone. Join us on a 100-word journey as we delve into the essence of DeepLearning.AI.\n",
      "\n",
      "DeepLearning.AI empowers curious minds to explore and understand the magic behind AI. By merging machine learning and neural networks, DeepLearning.AI equips learners with the tools, guidance, and a vibrant community to navigate the intricacies of AI. Complex concepts are decoded into practical knowledge, ensuring clarity every step of the way.\n",
      "\n",
      "Whether you're advancing your career, building innovative AI applications, or simply satisfying your curiosity, DeepLearning.AI opens doors to a world of possibilities. Let’s embark on this transformative AI journey together—welcome to the realm of DeepLearning.AI!\n"
     ]
    }
   ],
   "source": [
    "print(res.summary)"
   ]
  }
 ],
 "metadata": {
  "kernelspec": {
   "display_name": "Python 3",
   "language": "python",
   "name": "python3"
  },
  "language_info": {
   "codemirror_mode": {
    "name": "ipython",
    "version": 3
   },
   "file_extension": ".py",
   "mimetype": "text/x-python",
   "name": "python",
   "nbconvert_exporter": "python",
   "pygments_lexer": "ipython3",
   "version": "3.10.4"
  }
 },
 "nbformat": 4,
 "nbformat_minor": 2
}
