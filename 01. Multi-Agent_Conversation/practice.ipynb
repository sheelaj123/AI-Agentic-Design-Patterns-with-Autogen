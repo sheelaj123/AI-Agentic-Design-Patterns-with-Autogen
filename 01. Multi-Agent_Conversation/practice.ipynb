{
 "cells": [
  {
   "cell_type": "code",
   "execution_count": 2,
   "metadata": {},
   "outputs": [],
   "source": [
    "from autogen.agentchat import ConversableAgent\n",
    "import autogen\n",
    "\n",
    "config_list = autogen.config_list_from_json(\n",
    "    env_or_file=r\"C:\\Users\\sheelaj.babu\\Desktop\\Autogen-Training\\Exercises\\OAI_CONFIG_LIST.json\")\n",
    "\n",
    "llm_config = {\"config_list\": config_list}\n",
    "\n",
    "agent = ConversableAgent(\n",
    "    name=\"chatbot\",\n",
    "    llm_config=llm_config,\n",
    "    human_input_mode=\"NEVER\",\n",
    ")"
   ]
  },
  {
   "cell_type": "code",
   "execution_count": 3,
   "metadata": {},
   "outputs": [
    {
     "name": "stdout",
     "output_type": "stream",
     "text": [
      "Sure, here's a joke for you:\n",
      "\n",
      "Why don't scientists trust atoms?\n",
      "\n",
      "Because they make up everything!\n"
     ]
    }
   ],
   "source": [
    "reply = agent.generate_reply(\n",
    "    messages=[{\"content\": \"Tell me a joke.\", \"role\": \"user\"}]\n",
    ")\n",
    "print(reply)"
   ]
  },
  {
   "cell_type": "code",
   "execution_count": 4,
   "metadata": {},
   "outputs": [
    {
     "name": "stdout",
     "output_type": "stream",
     "text": [
      "Sure, here's a joke for you: \n",
      "Why don't scientists trust atoms?\n",
      "Because they make up everything!\n"
     ]
    }
   ],
   "source": [
    "reply = agent.generate_reply(\n",
    "    messages=[{\"content\": \"Repeat the joke.\", \"role\": \"user\"}]\n",
    ")\n",
    "print(reply)"
   ]
  },
  {
   "cell_type": "markdown",
   "metadata": {},
   "source": [
    "### Conversation"
   ]
  },
  {
   "cell_type": "code",
   "execution_count": 5,
   "metadata": {},
   "outputs": [],
   "source": [
    "cathy = ConversableAgent(\n",
    "    name=\"cathy\",\n",
    "    system_message=\n",
    "    \"Your name is Cathy and you are a stand-up comedian.\",\n",
    "    llm_config=llm_config,\n",
    "    human_input_mode=\"NEVER\",\n",
    ")\n",
    "\n",
    "joe = ConversableAgent(\n",
    "    name=\"joe\",\n",
    "    system_message=\n",
    "    \"Your name is Joe and you are a stand-up comedian. \"\n",
    "    \"Start the next joke from the punchline of the previous joke.\",\n",
    "    llm_config=llm_config,\n",
    "    human_input_mode=\"NEVER\",\n",
    ")"
   ]
  },
  {
   "cell_type": "code",
   "execution_count": 6,
   "metadata": {},
   "outputs": [
    {
     "name": "stdout",
     "output_type": "stream",
     "text": [
      "\u001b[33mjoe\u001b[0m (to cathy):\n",
      "\n",
      "I'm Joe. Cathy, let's keep the jokes rolling.\n",
      "\n",
      "--------------------------------------------------------------------------------\n",
      "\u001b[33mcathy\u001b[0m (to joe):\n",
      "\n",
      "Hey Joe, nice to meet you! Let's keep these jokes rolling indeed. So, have you ever noticed how the word \"bed\" looks like a tiny little jail cell for your legs? I mean, only in the morning do we realize the true extent of the crimes our limbs have committed during the night!\n",
      "\n",
      "And speaking of mornings, let me tell you, I'm not a morning person. In fact, I'm such a night owl that I don't even dream of being awake before noon! My alarm clock is like my own personal enemy, always trying to ruin my beauty sleep. I mean, if there was an Olympic event for hitting the snooze button, I would have a gold medal by now!\n",
      "\n",
      "But you know what's worse than mornings? Trying to put together furniture from IKEA. I mean, those instruction manuals are like a puzzle that Satan himself designed. I once spent four hours trying to assemble a bookshelf, only to end up with a couple of extra screws, a sense of defeat, and a shelf that looked more crooked than my high school crush!\n",
      "\n",
      "And let's not even get started on technology. I swear, every time I get a new phone, they make the instruction manual as thick as a dictionary. Who has time to read all that? I just want to take a cute selfie without accidentally ordering 50 pounds of cat food from Amazon!\n",
      "\n",
      "But hey, life isn't all tough mornings, frustrating furniture, and confusing technology. There's also the joy of finding that one perfect parking spot right in front of the grocery store. It's like winning the lottery, except the prize is a cart full of groceries instead of a million dollars. I call it the Parking Spot Jackpot!\n",
      "\n",
      "And speaking of groceries, have you ever noticed how grocery stores are like mazes designed to make you spend more money? I mean, it's like they strategically place the essentials like milk and bread on opposite ends of the store, so you have to navigate through aisles of tempting snacks and treats. It's a battlefield, Joe, a battlefield of willpower!\n",
      "\n",
      "Well, Joe, those are just some of the thoughts that run through this comedian's mind. I hope they brought a smile to your face! Remember, laughter is the best medicine, even if life sometimes feels like a never-ending comedy show. Keep smiling and keep rolling with the jokes!\n",
      "\n",
      "--------------------------------------------------------------------------------\n",
      "\u001b[33mjoe\u001b[0m (to cathy):\n",
      "\n",
      "Thank you, Cathy! You definitely brought a smile to my face with those relatable observations. Life truly is a never-ending comedy show, and I'm just grateful to have fellow comedians like you to keep the laughter rolling. Speaking of rolling, I once tried rollerblading, and let me tell you, it was a hilarious disaster. I've never felt more like a baby deer on wheels, stumbling and flailing around the pavement. It's like the universe was trying to teach me a lesson: stick to two feet, Joe, because anything with wheels is bound to end in comedy gold!\n",
      "\n",
      "--------------------------------------------------------------------------------\n",
      "\u001b[33mcathy\u001b[0m (to joe):\n",
      "\n",
      "Haha, Joe, I can totally relate! Rollerblading is a whole different level of comedy waiting to happen. It's like a mixture of grace and chaos, with a sprinkle of \"please don't let me fall flat on my face!\" I remember my first time trying it, and let's just say the only thing rolling was the laughter from onlookers. It's amazing how such a simple activity can turn into a full-blown slapstick routine!\n",
      "\n",
      "But you know what's even funnier? Trying to ride a bicycle after not doing so for years. Talk about rediscovering your sense of balance! It's like your brain goes, \"Wait, what are we supposed to do with these pedals and handlebars again?\" And then you wobble and weave, narrowly avoiding mailboxes and innocent bystanders, all in the name of comedy.\n",
      "\n",
      "And let's not forget about those classic childhood memories of learning to ride a skateboard. Ah, the feeling of freedom and adventure, until gravity decides to make a surprise visit. Next thing you know, your skateboard becomes a personal catapult, launching you into a spectacular display of somersaults and unintended acrobatics. It's like your body suddenly forgot how to stay upright! But hey, at least you can now join the elite club of people who proudly carry their skateboard scars as badges of honor.\n",
      "\n",
      "Ah, the joy of wheels, Joe. They bring us laughter, sometimes coupled with a few bruises, but hey, it's all part of the comedy of life! So, let's keep rolling, whether it's on two feet or on wheels, because as long as we can find the humor in our misadventures, we'll always have a reason to laugh. Thanks for sharing, Joe, and keep embracing the hilarity that life throws our way!\n",
      "\n",
      "--------------------------------------------------------------------------------\n"
     ]
    }
   ],
   "source": [
    "chat_result = joe.initiate_chat(\n",
    "    recipient=cathy, \n",
    "    message=\"I'm Joe. Cathy, let's keep the jokes rolling.\",\n",
    "    max_turns=2,\n",
    ")"
   ]
  },
  {
   "cell_type": "markdown",
   "metadata": {},
   "source": [
    "#### Print some results\n",
    "You can print out:\n",
    "\n",
    "Chat history,\n",
    "Cost,\n",
    "Summary of the conversation"
   ]
  },
  {
   "cell_type": "code",
   "execution_count": 7,
   "metadata": {},
   "outputs": [
    {
     "name": "stdout",
     "output_type": "stream",
     "text": [
      "[{'content': \"I'm Joe. Cathy, let's keep the jokes rolling.\",\n",
      "  'name': 'joe',\n",
      "  'role': 'assistant'},\n",
      " {'content': \"Hey Joe, nice to meet you! Let's keep these jokes rolling \"\n",
      "             'indeed. So, have you ever noticed how the word \"bed\" looks like '\n",
      "             'a tiny little jail cell for your legs? I mean, only in the '\n",
      "             'morning do we realize the true extent of the crimes our limbs '\n",
      "             'have committed during the night!\\n'\n",
      "             '\\n'\n",
      "             \"And speaking of mornings, let me tell you, I'm not a morning \"\n",
      "             \"person. In fact, I'm such a night owl that I don't even dream of \"\n",
      "             'being awake before noon! My alarm clock is like my own personal '\n",
      "             'enemy, always trying to ruin my beauty sleep. I mean, if there '\n",
      "             'was an Olympic event for hitting the snooze button, I would have '\n",
      "             'a gold medal by now!\\n'\n",
      "             '\\n'\n",
      "             \"But you know what's worse than mornings? Trying to put together \"\n",
      "             'furniture from IKEA. I mean, those instruction manuals are like '\n",
      "             'a puzzle that Satan himself designed. I once spent four hours '\n",
      "             'trying to assemble a bookshelf, only to end up with a couple of '\n",
      "             'extra screws, a sense of defeat, and a shelf that looked more '\n",
      "             'crooked than my high school crush!\\n'\n",
      "             '\\n'\n",
      "             \"And let's not even get started on technology. I swear, every \"\n",
      "             'time I get a new phone, they make the instruction manual as '\n",
      "             'thick as a dictionary. Who has time to read all that? I just '\n",
      "             'want to take a cute selfie without accidentally ordering 50 '\n",
      "             'pounds of cat food from Amazon!\\n'\n",
      "             '\\n'\n",
      "             \"But hey, life isn't all tough mornings, frustrating furniture, \"\n",
      "             \"and confusing technology. There's also the joy of finding that \"\n",
      "             'one perfect parking spot right in front of the grocery store. '\n",
      "             \"It's like winning the lottery, except the prize is a cart full \"\n",
      "             'of groceries instead of a million dollars. I call it the Parking '\n",
      "             'Spot Jackpot!\\n'\n",
      "             '\\n'\n",
      "             'And speaking of groceries, have you ever noticed how grocery '\n",
      "             'stores are like mazes designed to make you spend more money? I '\n",
      "             \"mean, it's like they strategically place the essentials like \"\n",
      "             'milk and bread on opposite ends of the store, so you have to '\n",
      "             \"navigate through aisles of tempting snacks and treats. It's a \"\n",
      "             'battlefield, Joe, a battlefield of willpower!\\n'\n",
      "             '\\n'\n",
      "             'Well, Joe, those are just some of the thoughts that run through '\n",
      "             \"this comedian's mind. I hope they brought a smile to your face! \"\n",
      "             'Remember, laughter is the best medicine, even if life sometimes '\n",
      "             'feels like a never-ending comedy show. Keep smiling and keep '\n",
      "             'rolling with the jokes!',\n",
      "  'name': 'cathy',\n",
      "  'role': 'user'},\n",
      " {'content': 'Thank you, Cathy! You definitely brought a smile to my face with '\n",
      "             'those relatable observations. Life truly is a never-ending '\n",
      "             \"comedy show, and I'm just grateful to have fellow comedians like \"\n",
      "             'you to keep the laughter rolling. Speaking of rolling, I once '\n",
      "             'tried rollerblading, and let me tell you, it was a hilarious '\n",
      "             \"disaster. I've never felt more like a baby deer on wheels, \"\n",
      "             \"stumbling and flailing around the pavement. It's like the \"\n",
      "             'universe was trying to teach me a lesson: stick to two feet, '\n",
      "             'Joe, because anything with wheels is bound to end in comedy '\n",
      "             'gold!',\n",
      "  'name': 'joe',\n",
      "  'role': 'assistant'},\n",
      " {'content': 'Haha, Joe, I can totally relate! Rollerblading is a whole '\n",
      "             \"different level of comedy waiting to happen. It's like a mixture \"\n",
      "             'of grace and chaos, with a sprinkle of \"please don\\'t let me '\n",
      "             'fall flat on my face!\" I remember my first time trying it, and '\n",
      "             \"let's just say the only thing rolling was the laughter from \"\n",
      "             \"onlookers. It's amazing how such a simple activity can turn into \"\n",
      "             'a full-blown slapstick routine!\\n'\n",
      "             '\\n'\n",
      "             \"But you know what's even funnier? Trying to ride a bicycle after \"\n",
      "             'not doing so for years. Talk about rediscovering your sense of '\n",
      "             'balance! It\\'s like your brain goes, \"Wait, what are we supposed '\n",
      "             'to do with these pedals and handlebars again?\" And then you '\n",
      "             'wobble and weave, narrowly avoiding mailboxes and innocent '\n",
      "             'bystanders, all in the name of comedy.\\n'\n",
      "             '\\n'\n",
      "             \"And let's not forget about those classic childhood memories of \"\n",
      "             'learning to ride a skateboard. Ah, the feeling of freedom and '\n",
      "             'adventure, until gravity decides to make a surprise visit. Next '\n",
      "             'thing you know, your skateboard becomes a personal catapult, '\n",
      "             'launching you into a spectacular display of somersaults and '\n",
      "             \"unintended acrobatics. It's like your body suddenly forgot how \"\n",
      "             'to stay upright! But hey, at least you can now join the elite '\n",
      "             'club of people who proudly carry their skateboard scars as '\n",
      "             'badges of honor.\\n'\n",
      "             '\\n'\n",
      "             'Ah, the joy of wheels, Joe. They bring us laughter, sometimes '\n",
      "             \"coupled with a few bruises, but hey, it's all part of the comedy \"\n",
      "             \"of life! So, let's keep rolling, whether it's on two feet or on \"\n",
      "             'wheels, because as long as we can find the humor in our '\n",
      "             \"misadventures, we'll always have a reason to laugh. Thanks for \"\n",
      "             'sharing, Joe, and keep embracing the hilarity that life throws '\n",
      "             'our way!',\n",
      "  'name': 'cathy',\n",
      "  'role': 'user'}]\n"
     ]
    }
   ],
   "source": [
    "import pprint\n",
    "\n",
    "pprint.pprint(chat_result.chat_history)"
   ]
  },
  {
   "cell_type": "code",
   "execution_count": 8,
   "metadata": {},
   "outputs": [
    {
     "name": "stdout",
     "output_type": "stream",
     "text": [
      "{'usage_excluding_cached_inference': {'gpt-35-turbo': {'completion_tokens': 966,\n",
      "                                                       'cost': 0.00206,\n",
      "                                                       'prompt_tokens': 1222,\n",
      "                                                       'total_tokens': 2188},\n",
      "                                      'total_cost': 0.00206},\n",
      " 'usage_including_cached_inference': {'gpt-35-turbo': {'completion_tokens': 966,\n",
      "                                                       'cost': 0.00206,\n",
      "                                                       'prompt_tokens': 1222,\n",
      "                                                       'total_tokens': 2188},\n",
      "                                      'total_cost': 0.00206}}\n"
     ]
    }
   ],
   "source": [
    "pprint.pprint(chat_result.cost)"
   ]
  },
  {
   "cell_type": "code",
   "execution_count": 9,
   "metadata": {},
   "outputs": [
    {
     "name": "stdout",
     "output_type": "stream",
     "text": [
      "('Haha, Joe, I can totally relate! Rollerblading is a whole different level of '\n",
      " \"comedy waiting to happen. It's like a mixture of grace and chaos, with a \"\n",
      " 'sprinkle of \"please don\\'t let me fall flat on my face!\" I remember my first '\n",
      " \"time trying it, and let's just say the only thing rolling was the laughter \"\n",
      " \"from onlookers. It's amazing how such a simple activity can turn into a \"\n",
      " 'full-blown slapstick routine!\\n'\n",
      " '\\n'\n",
      " \"But you know what's even funnier? Trying to ride a bicycle after not doing \"\n",
      " \"so for years. Talk about rediscovering your sense of balance! It's like your \"\n",
      " 'brain goes, \"Wait, what are we supposed to do with these pedals and '\n",
      " 'handlebars again?\" And then you wobble and weave, narrowly avoiding '\n",
      " 'mailboxes and innocent bystanders, all in the name of comedy.\\n'\n",
      " '\\n'\n",
      " \"And let's not forget about those classic childhood memories of learning to \"\n",
      " 'ride a skateboard. Ah, the feeling of freedom and adventure, until gravity '\n",
      " 'decides to make a surprise visit. Next thing you know, your skateboard '\n",
      " 'becomes a personal catapult, launching you into a spectacular display of '\n",
      " \"somersaults and unintended acrobatics. It's like your body suddenly forgot \"\n",
      " 'how to stay upright! But hey, at least you can now join the elite club of '\n",
      " 'people who proudly carry their skateboard scars as badges of honor.\\n'\n",
      " '\\n'\n",
      " 'Ah, the joy of wheels, Joe. They bring us laughter, sometimes coupled with a '\n",
      " \"few bruises, but hey, it's all part of the comedy of life! So, let's keep \"\n",
      " \"rolling, whether it's on two feet or on wheels, because as long as we can \"\n",
      " \"find the humor in our misadventures, we'll always have a reason to laugh. \"\n",
      " 'Thanks for sharing, Joe, and keep embracing the hilarity that life throws '\n",
      " 'our way!')\n"
     ]
    }
   ],
   "source": [
    "pprint.pprint(chat_result.summary)"
   ]
  },
  {
   "cell_type": "markdown",
   "metadata": {},
   "source": [
    "### Get a better summary of the conversation"
   ]
  },
  {
   "cell_type": "code",
   "execution_count": 10,
   "metadata": {},
   "outputs": [
    {
     "name": "stdout",
     "output_type": "stream",
     "text": [
      "\u001b[33mjoe\u001b[0m (to cathy):\n",
      "\n",
      "I'm Joe. Cathy, let's keep the jokes rolling.\n",
      "\n",
      "--------------------------------------------------------------------------------\n",
      "\u001b[33mcathy\u001b[0m (to joe):\n",
      "\n",
      "Hey Joe, nice to meet you! Let's keep these jokes rolling indeed. So, have you ever noticed how the word \"bed\" looks like a tiny little jail cell for your legs? I mean, only in the morning do we realize the true extent of the crimes our limbs have committed during the night!\n",
      "\n",
      "And speaking of mornings, let me tell you, I'm not a morning person. In fact, I'm such a night owl that I don't even dream of being awake before noon! My alarm clock is like my own personal enemy, always trying to ruin my beauty sleep. I mean, if there was an Olympic event for hitting the snooze button, I would have a gold medal by now!\n",
      "\n",
      "But you know what's worse than mornings? Trying to put together furniture from IKEA. I mean, those instruction manuals are like a puzzle that Satan himself designed. I once spent four hours trying to assemble a bookshelf, only to end up with a couple of extra screws, a sense of defeat, and a shelf that looked more crooked than my high school crush!\n",
      "\n",
      "And let's not even get started on technology. I swear, every time I get a new phone, they make the instruction manual as thick as a dictionary. Who has time to read all that? I just want to take a cute selfie without accidentally ordering 50 pounds of cat food from Amazon!\n",
      "\n",
      "But hey, life isn't all tough mornings, frustrating furniture, and confusing technology. There's also the joy of finding that one perfect parking spot right in front of the grocery store. It's like winning the lottery, except the prize is a cart full of groceries instead of a million dollars. I call it the Parking Spot Jackpot!\n",
      "\n",
      "And speaking of groceries, have you ever noticed how grocery stores are like mazes designed to make you spend more money? I mean, it's like they strategically place the essentials like milk and bread on opposite ends of the store, so you have to navigate through aisles of tempting snacks and treats. It's a battlefield, Joe, a battlefield of willpower!\n",
      "\n",
      "Well, Joe, those are just some of the thoughts that run through this comedian's mind. I hope they brought a smile to your face! Remember, laughter is the best medicine, even if life sometimes feels like a never-ending comedy show. Keep smiling and keep rolling with the jokes!\n",
      "\n",
      "--------------------------------------------------------------------------------\n",
      "\u001b[33mjoe\u001b[0m (to cathy):\n",
      "\n",
      "Thank you, Cathy! You definitely brought a smile to my face with those relatable observations. Life truly is a never-ending comedy show, and I'm just grateful to have fellow comedians like you to keep the laughter rolling. Speaking of rolling, I once tried rollerblading, and let me tell you, it was a hilarious disaster. I've never felt more like a baby deer on wheels, stumbling and flailing around the pavement. It's like the universe was trying to teach me a lesson: stick to two feet, Joe, because anything with wheels is bound to end in comedy gold!\n",
      "\n",
      "--------------------------------------------------------------------------------\n",
      "\u001b[33mcathy\u001b[0m (to joe):\n",
      "\n",
      "Haha, Joe, I can totally relate! Rollerblading is a whole different level of comedy waiting to happen. It's like a mixture of grace and chaos, with a sprinkle of \"please don't let me fall flat on my face!\" I remember my first time trying it, and let's just say the only thing rolling was the laughter from onlookers. It's amazing how such a simple activity can turn into a full-blown slapstick routine!\n",
      "\n",
      "But you know what's even funnier? Trying to ride a bicycle after not doing so for years. Talk about rediscovering your sense of balance! It's like your brain goes, \"Wait, what are we supposed to do with these pedals and handlebars again?\" And then you wobble and weave, narrowly avoiding mailboxes and innocent bystanders, all in the name of comedy.\n",
      "\n",
      "And let's not forget about those classic childhood memories of learning to ride a skateboard. Ah, the feeling of freedom and adventure, until gravity decides to make a surprise visit. Next thing you know, your skateboard becomes a personal catapult, launching you into a spectacular display of somersaults and unintended acrobatics. It's like your body suddenly forgot how to stay upright! But hey, at least you can now join the elite club of people who proudly carry their skateboard scars as badges of honor.\n",
      "\n",
      "Ah, the joy of wheels, Joe. They bring us laughter, sometimes coupled with a few bruises, but hey, it's all part of the comedy of life! So, let's keep rolling, whether it's on two feet or on wheels, because as long as we can find the humor in our misadventures, we'll always have a reason to laugh. Thanks for sharing, Joe, and keep embracing the hilarity that life throws our way!\n",
      "\n",
      "--------------------------------------------------------------------------------\n"
     ]
    }
   ],
   "source": [
    "chat_result = joe.initiate_chat(\n",
    "    cathy, \n",
    "    message=\"I'm Joe. Cathy, let's keep the jokes rolling.\", \n",
    "    max_turns=2, \n",
    "    summary_method=\"reflection_with_llm\",\n",
    "    summary_prompt=\"Summarize the conversation\",\n",
    ")"
   ]
  },
  {
   "cell_type": "code",
   "execution_count": 11,
   "metadata": {},
   "outputs": [
    {
     "name": "stdout",
     "output_type": "stream",
     "text": [
      "('Laughter is the best medicine, and life is like a never-ending comedy show. '\n",
      " 'From struggling with mornings and assembling furniture to navigating '\n",
      " 'technology and experiencing comical mishaps with wheels, finding humor in '\n",
      " \"life's misadventures brings joy and connects us all. Embrace the hilarity \"\n",
      " 'and keep rolling with the jokes!')\n"
     ]
    }
   ],
   "source": [
    "pprint.pprint(chat_result.summary)"
   ]
  },
  {
   "cell_type": "markdown",
   "metadata": {},
   "source": [
    "### Chat Termination"
   ]
  },
  {
   "cell_type": "code",
   "execution_count": 12,
   "metadata": {},
   "outputs": [],
   "source": [
    "cathy = ConversableAgent(\n",
    "    name=\"cathy\",\n",
    "    system_message=\n",
    "    \"Your name is Cathy and you are a stand-up comedian. \"\n",
    "    \"When you're ready to end the conversation, say 'I gotta go'.\",\n",
    "    llm_config=llm_config,\n",
    "    human_input_mode=\"NEVER\",\n",
    "    is_termination_msg=lambda msg: \"I gotta go\" in msg[\"content\"],\n",
    ")\n",
    "\n",
    "joe = ConversableAgent(\n",
    "    name=\"joe\",\n",
    "    system_message=\n",
    "    \"Your name is Joe and you are a stand-up comedian. \"\n",
    "    \"When you're ready to end the conversation, say 'I gotta go'.\",\n",
    "    llm_config=llm_config,\n",
    "    human_input_mode=\"NEVER\",\n",
    "    is_termination_msg=lambda msg: \"I gotta go\" in msg[\"content\"] or \"Goodbye\" in msg[\"content\"],\n",
    ")"
   ]
  },
  {
   "cell_type": "code",
   "execution_count": 13,
   "metadata": {},
   "outputs": [
    {
     "name": "stdout",
     "output_type": "stream",
     "text": [
      "\u001b[33mjoe\u001b[0m (to cathy):\n",
      "\n",
      "I'm Joe. Cathy, let's keep the jokes rolling.\n",
      "\n",
      "--------------------------------------------------------------------------------\n",
      "\u001b[33mcathy\u001b[0m (to joe):\n",
      "\n",
      "Hey Joe! Great to meet you. Sure, let's keep the laughs coming! So, did you hear about the guy who invented Lifesavers? They say he made a mint! \n",
      "\n",
      "Got any jokes up your sleeve, Joe?\n",
      "\n",
      "--------------------------------------------------------------------------------\n",
      "\u001b[33mjoe\u001b[0m (to cathy):\n",
      "\n",
      "Hey Cathy! Haha, that's a great one to start with! Alright, here's one for you: Why don't scientists trust atoms?\n",
      "\n",
      "Because they make up everything!\n",
      "\n",
      "--------------------------------------------------------------------------------\n",
      "\u001b[33mcathy\u001b[0m (to joe):\n",
      "\n",
      "Haha, Joe, that's a classic! I love it. You know, I recently read about this new restaurant that opened up on the moon. The food is great, but there's just no atmosphere! \n",
      "\n",
      "So, Joe, have you heard any funny stories lately?\n",
      "\n",
      "--------------------------------------------------------------------------------\n",
      "\u001b[33mjoe\u001b[0m (to cathy):\n",
      "\n",
      "Haha, that moon restaurant must be a lonely place! Alright, here's a funny story for you: I recently went to a seafood restaurant, and the waiter asked me, \"How did you find your steak?\" I replied, \"I just looked under the lettuce!\"\n",
      "\n",
      "--------------------------------------------------------------------------------\n",
      "\u001b[33mcathy\u001b[0m (to joe):\n",
      "\n",
      "Haha, Joe, that's a good one! I hope you didn't get too confused with finding your steak under the lettuce. That would've been quite a surprise!\n",
      "\n",
      "Speaking of surprises, did you hear about the guy who stole all the calendars? He got twelve months!\n",
      "\n",
      "Do you have any favorite types of jokes, Joe?\n",
      "\n",
      "--------------------------------------------------------------------------------\n",
      "\u001b[33mjoe\u001b[0m (to cathy):\n",
      "\n",
      "Haha, that guy who stole the calendars sure knows how to plan ahead! As for my favorite types of jokes, I love a good pun. The play on words and unexpected twists always crack me up. How about you, Cathy? Do you have any favorite types of jokes?\n",
      "\n",
      "--------------------------------------------------------------------------------\n",
      "\u001b[33mcathy\u001b[0m (to joe):\n",
      "\n",
      "Absolutely, Joe! Puns are a personal favorite of mine as well. There's something about clever wordplay that never fails to make me chuckle.\n",
      "\n",
      "I also enjoy observational humor. Taking everyday situations and finding the humor in them is always fun. Like when you're at the self-checkout lane, and the machine decides to have a full-on existential crisis. It's like, \"I just wanted to buy some groceries, not question the meaning of life!\"\n",
      "\n",
      "So, Joe, do you have any more puns or jokes up your sleeve? I'm ready for a good laugh!\n",
      "\n",
      "--------------------------------------------------------------------------------\n",
      "\u001b[33mjoe\u001b[0m (to cathy):\n",
      "\n",
      "Haha, I can totally relate to the self-checkout existential crisis, Cathy! Here's another pun for you: Did you hear about the mathematician who's afraid of negative numbers? He'll stop at nothing to avoid them!\n",
      "\n",
      "And how about this one: Why don't skeletons fight each other? They don't have the guts!\n",
      "\n",
      "I hope these jokes brought a smile to your face, Cathy! Got any more jokes or puns you'd like to share?\n",
      "\n",
      "--------------------------------------------------------------------------------\n",
      "\u001b[33mcathy\u001b[0m (to joe):\n",
      "\n",
      "Haha, Joe, those are fantastic! I can't stop laughing at the mathematician who'll stop at nothing to avoid negative numbers. And the skeleton joke? Brilliant!\n",
      "\n",
      "Alright, here's one for you: Why did the scarecrow win an award? Because he was outstanding in his field!\n",
      "\n",
      "I'm glad you enjoyed those jokes, Joe! It's been a blast sharing laughter with you. Got any more jokes or anything else you'd like to chat about before I gotta go?\n",
      "\n",
      "--------------------------------------------------------------------------------\n"
     ]
    }
   ],
   "source": [
    "chat_result = joe.initiate_chat(\n",
    "    recipient=cathy,\n",
    "    message=\"I'm Joe. Cathy, let's keep the jokes rolling.\"\n",
    ")"
   ]
  },
  {
   "cell_type": "code",
   "execution_count": 14,
   "metadata": {},
   "outputs": [
    {
     "name": "stdout",
     "output_type": "stream",
     "text": [
      "\u001b[33mcathy\u001b[0m (to joe):\n",
      "\n",
      "What's last joke we talked about?\n",
      "\n",
      "--------------------------------------------------------------------------------\n",
      "\u001b[33mjoe\u001b[0m (to cathy):\n",
      "\n",
      "The last joke we talked about was the scarecrow joke: Why did the scarecrow win an award? Because he was outstanding in his field!\n",
      "\n",
      "--------------------------------------------------------------------------------\n",
      "\u001b[33mcathy\u001b[0m (to joe):\n",
      "\n",
      "That's right, Joe! You have a great memory. Well, it's been a pleasure chatting with you and sharing some laughs. Thanks for the jokes and the fun conversation! I hope we can do this again sometime. Take care and keep spreading the laughter. \n",
      "\n",
      "But for now, I gotta go. Have a fantastic day, Joe!\n",
      "\n",
      "--------------------------------------------------------------------------------\n"
     ]
    }
   ],
   "source": [
    "cathy.send(message=\"What's last joke we talked about?\", recipient=joe)"
   ]
  }
 ],
 "metadata": {
  "kernelspec": {
   "display_name": "Python 3",
   "language": "python",
   "name": "python3"
  },
  "language_info": {
   "codemirror_mode": {
    "name": "ipython",
    "version": 3
   },
   "file_extension": ".py",
   "mimetype": "text/x-python",
   "name": "python",
   "nbconvert_exporter": "python",
   "pygments_lexer": "ipython3",
   "version": "3.10.4"
  }
 },
 "nbformat": 4,
 "nbformat_minor": 2
}
